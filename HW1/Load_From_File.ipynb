{
 "cells": [
  {
   "cell_type": "code",
   "execution_count": 2,
   "id": "03b6f270",
   "metadata": {},
   "outputs": [],
   "source": [
    "from tensorflow.keras import datasets\n",
    "import torch\n",
    "import torch.nn as nn\n",
    "import torch.nn.functional as F\n",
    "import torch.optim as optim\n",
    "import numpy as np\n",
    "import os\n",
    "import torchvision.datasets as dset\n",
    "import torchvision.transforms as transforms\n",
    "from torch.autograd import Variable\n",
    "import matplotlib.pyplot as plt\n",
    "from CNN_Class import Network_Model, Conv2D_Layer, MaxPooling2D_Layer, FC_Layer, default_lr, cross_entropy, Softmax_Layer, lr_scheduler"
   ]
  },
  {
   "cell_type": "code",
   "execution_count": 3,
   "id": "6db06138",
   "metadata": {},
   "outputs": [],
   "source": [
    "# MNIST dataset\n",
    "\n",
    "dataset = datasets.mnist.load_data(path=\"mnist.npz\")\n",
    "X_train = dataset[0][0]\n",
    "Y_train = dataset[0][1]\n",
    "X_test = dataset[1][0]\n",
    "Y_test = dataset[1][1]\n",
    "\n",
    "X_train = np.array(X_train.astype(\"float32\") / 255) - 0.5\n",
    "X_test = np.array(X_test.astype(\"float32\") / 255) - 0.5\n",
    "\n",
    "X_train = np.expand_dims(X_train, 1)\n",
    "X_test = np.expand_dims(X_test, 1)\n"
   ]
  },
  {
   "cell_type": "code",
   "execution_count": 4,
   "id": "f516fe2a",
   "metadata": {},
   "outputs": [],
   "source": [
    "Conv1 = np.load(\"./weight_Conv_1.npy\")\n",
    "Conv2 = np.load(\"./weight_Conv_2.npy\")\n",
    "fc1_weights = np.load(\"./weight_FC_1.npy\")\n",
    "fc1_biases = np.load(\"./bias_FC_1.npy\")\n",
    "fc2_weights = np.load(\"./weight_FC_2.npy\")\n",
    "fc2_biases = np.load(\"./bias_FC_2.npy\")"
   ]
  },
  {
   "cell_type": "code",
   "execution_count": 5,
   "id": "9631021f",
   "metadata": {},
   "outputs": [],
   "source": [
    "# CNN Model\n",
    "model = Network_Model(cross_entropy, lr_scheduler)\n",
    "model.add(Conv2D_Layer(channels=4, stride=1, kernel_size=5, activation=\"relu\", name=\"Conv_1\", filters=Conv1))\n",
    "model.add(MaxPooling2D_Layer(size=2))\n",
    "model.add(Conv2D_Layer(channels=8, stride=1, kernel_size=5, activation=\"relu\", name=\"Conv_2\", filters=Conv2))\n",
    "model.add(MaxPooling2D_Layer(size=2))\n",
    "model.add(FC_Layer(innode=128, outnode=128, activation=\"relu\", name=\"FC_1\", weights=fc1_weights, biases=fc1_biases))\n",
    "model.add(FC_Layer(innode=128, outnode=10, activation=None, name=\"FC_2\", weights=fc2_weights, biases=fc2_biases))\n",
    "model.add(Softmax_Layer())"
   ]
  },
  {
   "cell_type": "code",
   "execution_count": 6,
   "id": "d3551c96",
   "metadata": {},
   "outputs": [
    {
     "name": "stdout",
     "output_type": "stream",
     "text": [
      "val_loss: 0.276766048433187 val_accuracy: 91.67 \n"
     ]
    }
   ],
   "source": [
    "x, y = model.eval(X_test, Y_test)\n",
    "print(\"val_loss: {} val_accuracy: {} \".format(x,y))"
   ]
  }
 ],
 "metadata": {
  "kernelspec": {
   "display_name": "Python 3 (ipykernel)",
   "language": "python",
   "name": "python3"
  },
  "language_info": {
   "codemirror_mode": {
    "name": "ipython",
    "version": 3
   },
   "file_extension": ".py",
   "mimetype": "text/x-python",
   "name": "python",
   "nbconvert_exporter": "python",
   "pygments_lexer": "ipython3",
   "version": "3.8.13"
  }
 },
 "nbformat": 4,
 "nbformat_minor": 5
}
