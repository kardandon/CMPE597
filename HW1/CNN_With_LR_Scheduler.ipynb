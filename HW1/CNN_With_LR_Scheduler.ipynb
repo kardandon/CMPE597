{
 "cells": [
  {
   "cell_type": "code",
   "execution_count": 1,
   "id": "007a00f9",
   "metadata": {},
   "outputs": [],
   "source": [
    "from tensorflow.keras import datasets\n",
    "import torch\n",
    "import torch.nn as nn\n",
    "import torch.nn.functional as F\n",
    "import torch.optim as optim\n",
    "import numpy as np\n",
    "import os\n",
    "import torchvision.datasets as dset\n",
    "import torchvision.transforms as transforms\n",
    "from torch.autograd import Variable\n",
    "import matplotlib.pyplot as plt\n",
    "from CNN_Class import Network_Model, Conv2D_Layer, MaxPooling2D_Layer, FC_Layer, default_lr, cross_entropy, Softmax_Layer, lr_scheduler"
   ]
  },
  {
   "cell_type": "markdown",
   "id": "5c27c5d8",
   "metadata": {},
   "source": [
    "### Own Implementation Using lr=0.01 and lr_scheduler"
   ]
  },
  {
   "cell_type": "code",
   "execution_count": 2,
   "id": "348c48bc",
   "metadata": {},
   "outputs": [],
   "source": [
    "# MNIST dataset\n",
    "\n",
    "dataset = datasets.mnist.load_data(path=\"mnist.npz\")\n",
    "X_train = dataset[0][0]\n",
    "Y_train = dataset[0][1]\n",
    "X_test = dataset[1][0]\n",
    "Y_test = dataset[1][1]\n",
    "\n",
    "X_train = np.array(X_train.astype(\"float32\") / 255) - 0.5\n",
    "X_test = np.array(X_test.astype(\"float32\") / 255) - 0.5\n",
    "\n",
    "X_train = np.expand_dims(X_train, 1)\n",
    "X_test = np.expand_dims(X_test, 1)\n"
   ]
  },
  {
   "cell_type": "code",
   "execution_count": 3,
   "id": "fc1567cb",
   "metadata": {},
   "outputs": [
    {
     "name": "stdout",
     "output_type": "stream",
     "text": [
      "\n",
      " ==> Epoch 0\n",
      "loss: 0.39851610622806993 accuracy: 88.13 val_loss: 0.28619821281393787 val_accuracy: 92.14 \n"
     ]
    }
   ],
   "source": [
    "# CNN Model\n",
    "model = Network_Model(cross_entropy, lr_scheduler)\n",
    "model.add(Conv2D_Layer(channels=4, stride=1, kernel_size=5, activation=\"relu\"))\n",
    "model.add(MaxPooling2D_Layer(size=2))\n",
    "model.add(Conv2D_Layer(channels=8, stride=1, kernel_size=5, activation=\"relu\"))\n",
    "model.add(MaxPooling2D_Layer(size=2))\n",
    "model.add(FC_Layer(innode=128, outnode=128, activation=\"relu\"))\n",
    "model.add(FC_Layer(innode=128, outnode=10, activation=None))\n",
    "model.add(Softmax_Layer())\n",
    "model.train(X_train, Y_train, X_test, Y_test, epochs=1, lr=0.01, verbose=True)"
   ]
  }
 ],
 "metadata": {
  "kernelspec": {
   "display_name": "Python 3 (ipykernel)",
   "language": "python",
   "name": "python3"
  },
  "language_info": {
   "codemirror_mode": {
    "name": "ipython",
    "version": 3
   },
   "file_extension": ".py",
   "mimetype": "text/x-python",
   "name": "python",
   "nbconvert_exporter": "python",
   "pygments_lexer": "ipython3",
   "version": "3.8.13"
  }
 },
 "nbformat": 4,
 "nbformat_minor": 5
}
