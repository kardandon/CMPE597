{
 "cells": [
  {
   "cell_type": "markdown",
   "id": "b5c46a73",
   "metadata": {},
   "source": [
    "### Izzet Emre Kucukkaya\n",
    "# CMPE597 HW1"
   ]
  },
  {
   "cell_type": "markdown",
   "id": "ccec4710",
   "metadata": {},
   "source": [
    "### Read dataset"
   ]
  },
  {
   "cell_type": "code",
   "execution_count": 1,
   "id": "a758e1cd",
   "metadata": {},
   "outputs": [],
   "source": [
    "from tensorflow.keras import datasets\n",
    "import torch\n",
    "import torch.nn as nn\n",
    "import torch.nn.functional as F\n",
    "import torch.optim as optim\n",
    "import numpy as np\n",
    "import os\n",
    "import torchvision.datasets as dset\n",
    "import torchvision.transforms as transforms\n",
    "from torch.autograd import Variable\n",
    "import matplotlib.pyplot as plt\n",
    "from CNN_Class import Network_Model, Conv2D_Layer, MaxPooling2D_Layer, FC_Layer, default_lr, cross_entropy, Softmax_Layer, lr_scheduler"
   ]
  },
  {
   "cell_type": "code",
   "execution_count": 72,
   "id": "d0a70276",
   "metadata": {},
   "outputs": [
    {
     "name": "stdout",
     "output_type": "stream",
     "text": [
      "torch.Size([60000, 28, 28])\n"
     ]
    }
   ],
   "source": [
    "# MNIST dataset\n",
    "\n",
    "dataset = datasets.mnist.load_data(path=\"mnist.npz\")\n",
    "X_train = dataset[0][0]\n",
    "Y_train = dataset[0][1]\n",
    "X_test = dataset[1][0]\n",
    "Y_test = dataset[1][1]\n",
    "\n",
    "X_train = np.array(X_train.astype(\"float32\") / 255) - 0.5\n",
    "X_test = np.array(X_test.astype(\"float32\") / 255) - 0.5\n",
    "\n",
    "X_train = np.expand_dims(X_train, 1)\n",
    "X_test = np.expand_dims(X_test, 1)\n",
    "\n",
    "#train_set = [[x,y] for x, y in zip(X_train, Y_train)]\n",
    "#test_set = [[x,y] for x, y in zip(X_test, Y_test)]\n",
    "#print(test_set)\n",
    "\n",
    "\n",
    "\n",
    "root = './data'\n",
    "if not os.path.exists(root):\n",
    "    os.mkdir(root)\n",
    "    \n",
    "trans = transforms.Compose([transforms.ToTensor(), transforms.Normalize((-0.5,), (0.5,))])\n",
    "# if not exist, download mnist dataset\n",
    "train_set = dset.MNIST(root=root, train=True, transform=trans, download=True)\n",
    "test_set = dset.MNIST(root=root, train=False, transform=trans, download=True)\n",
    "\n",
    "batch_size = 100\n",
    "\n",
    "train_loader = torch.utils.data.DataLoader(\n",
    "                 dataset=train_set,\n",
    "                 batch_size=batch_size,\n",
    "                 shuffle=True)\n",
    "test_loader = torch.utils.data.DataLoader(\n",
    "                dataset=test_set,\n",
    "                batch_size=60000,\n",
    "                shuffle=False)\n",
    "print(train_set.data.shape)\n"
   ]
  },
  {
   "cell_type": "markdown",
   "id": "a6914933",
   "metadata": {},
   "source": [
    "### Using Own Implementation with lr=0.001"
   ]
  },
  {
   "cell_type": "code",
   "execution_count": 3,
   "id": "d7eb801e",
   "metadata": {},
   "outputs": [
    {
     "name": "stdout",
     "output_type": "stream",
     "text": [
      "\n",
      " ==> Epoch 0\n",
      "loss: 0.8496868569922696 accuracy: 72.52 val_loss: 0.3427774430097381 val_accuracy: 89.12 \n"
     ]
    }
   ],
   "source": [
    "# CNN Model\n",
    "model = Network_Model(cross_entropy, default_lr)\n",
    "model.add(Conv2D_Layer(channels=4, stride=1, kernel_size=5, activation=\"relu\"))\n",
    "model.add(MaxPooling2D_Layer(size=2))\n",
    "model.add(Conv2D_Layer(channels=8, stride=1, kernel_size=5, activation=\"relu\"))\n",
    "model.add(MaxPooling2D_Layer(size=2))\n",
    "model.add(FC_Layer(innode=128, outnode=128, activation=\"relu\"))\n",
    "model.add(FC_Layer(innode=128, outnode=10, activation=None))\n",
    "model.add(Softmax_Layer())\n",
    "model.train(X_train, Y_train, X_test, Y_test, epochs=1, lr=0.001, verbose=True)"
   ]
  },
  {
   "cell_type": "code",
   "execution_count": 4,
   "id": "52e2b64a",
   "metadata": {
    "scrolled": true
   },
   "outputs": [
    {
     "name": "stdout",
     "output_type": "stream",
     "text": [
      "\n",
      " ==> Epoch 0\n",
      "loss: 1.268726570460975 accuracy: 70.94833333333334 val_loss: 0.5366752182892833 val_accuracy: 84.89 \n"
     ]
    }
   ],
   "source": [
    "# Simple Model Using 2 FC Layers\n",
    "model = Network_Model(cross_entropy, default_lr)\n",
    "model.add(FC_Layer(innode=784, outnode=128, activation=\"relu\"))\n",
    "model.add(FC_Layer(innode=128, outnode=10, activation=None))\n",
    "model.add(Softmax_Layer())\n",
    "model.train(X_train, Y_train, X_test, Y_test, epochs=1, lr=0.001, verbose=True)"
   ]
  },
  {
   "cell_type": "markdown",
   "id": "f9c957e3",
   "metadata": {},
   "source": [
    "### Using pytorch"
   ]
  },
  {
   "cell_type": "code",
   "execution_count": 79,
   "id": "923d432e",
   "metadata": {
    "scrolled": false
   },
   "outputs": [
    {
     "name": "stdout",
     "output_type": "stream",
     "text": [
      "PytorchNetwork(\n",
      "  (conv1): Conv2d(1, 4, kernel_size=(5, 5), stride=(1, 1))\n",
      "  (pool1): MaxPool2d(kernel_size=2, stride=2, padding=0, dilation=1, ceil_mode=False)\n",
      "  (conv2): Conv2d(4, 8, kernel_size=(5, 5), stride=(1, 1))\n",
      "  (pool2): MaxPool2d(kernel_size=2, stride=2, padding=0, dilation=1, ceil_mode=False)\n",
      "  (fc1): Linear(in_features=128, out_features=128, bias=True)\n",
      "  (fc2): Linear(in_features=128, out_features=10, bias=True)\n",
      ")\n"
     ]
    }
   ],
   "source": [
    "class PytorchNetwork(nn.Module):\n",
    "    def __init__(self):\n",
    "      super(PytorchNetwork, self).__init__()\n",
    "\n",
    "      self.conv1 = nn.Conv2d(in_channels=1, out_channels=4, kernel_size=5, stride=1)\n",
    "      self.pool1 = nn.MaxPool2d(2)\n",
    "    \n",
    "      self.conv2 = nn.Conv2d(in_channels=4, out_channels=8, kernel_size=5, stride=1)\n",
    "      self.pool2 = nn.MaxPool2d(2)\n",
    "    \n",
    "      self.fc1 = nn.Linear(128, 128)\n",
    "      self.fc2 = nn.Linear(128, 10)\n",
    "    \n",
    "    def forward(self, x):\n",
    "      x = self.conv1(x)\n",
    "      x = F.relu(x)\n",
    "      x = self.pool1(x)\n",
    "    \n",
    "      x = self.conv2(x)\n",
    "      x = F.relu(x)\n",
    "      x = self.pool2(x)\n",
    "      \n",
    "      x = torch.flatten(x, 1)\n",
    "\n",
    "      x = self.fc1(x)\n",
    "      x = F.relu(x)\n",
    "      x = self.fc2(x)\n",
    "\n",
    "      output = F.log_softmax(x, dim=1)\n",
    "      return output\n",
    "\n",
    "model = PytorchNetwork()\n",
    "print(model)\n",
    "\n",
    "criterion = nn.CrossEntropyLoss()\n",
    "optimizer = optim.SGD(model.parameters(), lr=0.01, momentum=0.9)"
   ]
  },
  {
   "cell_type": "code",
   "execution_count": 80,
   "id": "86fe1630",
   "metadata": {},
   "outputs": [
    {
     "name": "stdout",
     "output_type": "stream",
     "text": [
      "==>>> epoch: 0, batch index: 100, train loss: 1.567751\n",
      "==>>> epoch: 0, batch index: 200, train loss: 0.969617\n",
      "==>>> epoch: 0, batch index: 300, train loss: 0.721266\n",
      "==>>> epoch: 0, batch index: 400, train loss: 0.586809\n",
      "==>>> epoch: 0, batch index: 500, train loss: 0.500713\n",
      "==>>> epoch: 0, batch index: 600, train loss: 0.439780\n",
      "==>>> epoch: 0, batch index: 1, test loss: 0.109147, acc: 0.963\n"
     ]
    }
   ],
   "source": [
    "for epoch in range(1):\n",
    "    # trainning\n",
    "    total_loss = 0\n",
    "    model.train()\n",
    "    for batch_idx, (x, target) in enumerate(train_loader):\n",
    "        optimizer.zero_grad()\n",
    "        x, target = Variable(x), Variable(target)\n",
    "        out = model(x)\n",
    "        loss = criterion(out, target)\n",
    "        total_loss += loss.item()\n",
    "        loss.backward()\n",
    "        optimizer.step()\n",
    "        if (batch_idx+1) % 100 == 0 or (batch_idx+1) == len(train_loader):\n",
    "            print('==>>> epoch: {}, batch index: {}, train loss: {:.6f}'.format(\n",
    "                epoch, batch_idx+1, total_loss  / (batch_idx+1)))\n",
    "    # testing\n",
    "    model.eval()\n",
    "    correct_cnt = 0\n",
    "    total_cnt = 0\n",
    "    total_loss = 0\n",
    "    for batch_idx, (x, target) in enumerate(test_loader):\n",
    "        x, target = Variable(x), Variable(target)\n",
    "        out = model(x)\n",
    "        loss = criterion(out, target)\n",
    "        _, pred_label = torch.max(out.data, 1)\n",
    "        total_cnt += x.data.size()[0]\n",
    "        correct_cnt += (pred_label == target.data).sum()\n",
    "        total_loss += loss.item()\n",
    "        print('==>>> epoch: {}, batch index: {}, test loss: {:.6f}, acc: {:.3f}'.format(\n",
    "            epoch, batch_idx+1, total_loss, correct_cnt * 1.0 / len(x)))"
   ]
  },
  {
   "cell_type": "markdown",
   "id": "510d9e36",
   "metadata": {},
   "source": [
    "### Q2"
   ]
  },
  {
   "cell_type": "code",
   "execution_count": 47,
   "id": "6059ebc6",
   "metadata": {
    "scrolled": false
   },
   "outputs": [
    {
     "data": {
      "text/plain": [
       "[<matplotlib.lines.Line2D at 0x1a6979ac100>]"
      ]
     },
     "execution_count": 47,
     "metadata": {},
     "output_type": "execute_result"
    },
    {
     "data": {
      "image/png": "[encoded data removed]",
      "text/plain": [
       "<Figure size 432x288 with 1 Axes>"
      ]
     },
     "metadata": {
      "needs_background": "light"
     },
     "output_type": "display_data"
    }
   ],
   "source": [
    "# Loading Dataset\n",
    "X_test = np.asarray(np.load(\"./Data/X_test.npy\"), dtype=np.float32)\n",
    "X_train = np.asarray(np.load(\"./Data/X_train.npy\"), dtype=np.float32)\n",
    "Y_test = np.asarray(np.load(\"./Data/Y_test.npy\"))\n",
    "Y_train = np.asarray(np.load(\"./Data/Y_train.npy\"))\n",
    "\n",
    "# Find boundaries\n",
    "X_grid = np.zeros((10000,2), dtype=np.float32)\n",
    "\n",
    "for i in range(100):\n",
    "    X_grid[i*100:(i+1)*100, 0] = np.linspace(-2,2,100)\n",
    "    X_grid[i*100:(i+1)*100, 1] = -2 + i / 25\n",
    "        \n",
    "# Plot Data\n",
    "plt.plot(X_test[Y_test == 0, 0], X_test[Y_test == 0, 1], \"*r\")\n",
    "plt.plot(X_test[Y_test == 1, 0], X_test[Y_test == 1, 1], \"*b\")\n",
    "plt.plot(X_train[Y_train == 0, 0], X_train[Y_train == 0, 1], \"or\")\n",
    "plt.plot(X_train[Y_train == 1, 0], X_train[Y_train == 1, 1], \"ob\")"
   ]
  },
  {
   "cell_type": "code",
   "execution_count": 48,
   "id": "d902ef1c",
   "metadata": {},
   "outputs": [],
   "source": [
    "# Add data to DataLoader\n",
    "batch_size = 1\n",
    "\n",
    "train_loader = torch.utils.data.DataLoader(\n",
    "                 dataset=[(x,y) for x, y in zip(X_train, Y_train)],\n",
    "                 batch_size=batch_size,\n",
    "                 shuffle=True)\n",
    "test_loader = torch.utils.data.DataLoader(\n",
    "                dataset=[(x,y) for x, y in zip(X_test, Y_test)],\n",
    "                batch_size=len(Y_test),\n",
    "                shuffle=False)\n",
    "grid_loader = torch.utils.data.DataLoader(\n",
    "                dataset = [(x,0) for x in X_grid],\n",
    "                batch_size = len(X_grid)\n",
    "                )"
   ]
  },
  {
   "cell_type": "code",
   "execution_count": 65,
   "id": "b7b0810d",
   "metadata": {
    "scrolled": true
   },
   "outputs": [
    {
     "name": "stdout",
     "output_type": "stream",
     "text": [
      "PytorchNetworkQ2(\n",
      "  (fc1): Linear(in_features=2, out_features=8, bias=True)\n",
      "  (fc2): Linear(in_features=8, out_features=8, bias=True)\n",
      "  (fc3): Linear(in_features=8, out_features=2, bias=True)\n",
      ")\n"
     ]
    }
   ],
   "source": [
    "# Pytorch Model\n",
    "class PytorchNetworkQ2(nn.Module):\n",
    "    def __init__(self):\n",
    "      super(PytorchNetworkQ2, self).__init__()\n",
    "    \n",
    "      self.fc1 = nn.Linear(2, 8)\n",
    "      self.fc2 = nn.Linear(8, 8)\n",
    "      self.fc3 = nn.Linear(8, 2)\n",
    "    \n",
    "    def forward(self, x):\n",
    "      x = self.fc1(x)\n",
    "      x = F.relu(x)\n",
    "      x = self.fc2(x)\n",
    "      x = F.relu(x)\n",
    "      x = self.fc3(x)\n",
    "        \n",
    "      return torch.sigmoid(x)\n",
    "\n",
    "model2 = PytorchNetworkQ2()\n",
    "print(model2)\n",
    "\n",
    "criterion = nn.CrossEntropyLoss()\n",
    "optimizer = optim.SGD(model2.parameters(), lr=0.01, momentum=0.9)"
   ]
  },
  {
   "cell_type": "code",
   "execution_count": 66,
   "id": "585102f6",
   "metadata": {
    "scrolled": true
   },
   "outputs": [
    {
     "name": "stdout",
     "output_type": "stream",
     "text": [
      "==>>> epoch: 0, batch index: 60, train loss: 0.695006\n",
      "==>>> epoch: 0, batch index: 1, test loss: 0.692410, test acc: 0.500\n",
      "==>>> epoch: 1, batch index: 60, train loss: 0.689953\n",
      "==>>> epoch: 1, batch index: 1, test loss: 0.696931, test acc: 0.400\n",
      "==>>> epoch: 2, batch index: 60, train loss: 0.683911\n",
      "==>>> epoch: 2, batch index: 1, test loss: 0.702573, test acc: 0.400\n",
      "==>>> epoch: 3, batch index: 60, train loss: 0.676139\n",
      "==>>> epoch: 3, batch index: 1, test loss: 0.706750, test acc: 0.400\n",
      "==>>> epoch: 4, batch index: 60, train loss: 0.674450\n",
      "==>>> epoch: 4, batch index: 1, test loss: 0.717484, test acc: 0.400\n",
      "==>>> epoch: 5, batch index: 60, train loss: 0.667350\n",
      "==>>> epoch: 5, batch index: 1, test loss: 0.713151, test acc: 0.400\n",
      "==>>> epoch: 6, batch index: 60, train loss: 0.662499\n",
      "==>>> epoch: 6, batch index: 1, test loss: 0.710951, test acc: 0.400\n",
      "==>>> epoch: 7, batch index: 60, train loss: 0.655847\n",
      "==>>> epoch: 7, batch index: 1, test loss: 0.701354, test acc: 0.400\n",
      "==>>> epoch: 8, batch index: 60, train loss: 0.652908\n",
      "==>>> epoch: 8, batch index: 1, test loss: 0.706153, test acc: 0.400\n",
      "==>>> epoch: 9, batch index: 60, train loss: 0.639908\n",
      "==>>> epoch: 9, batch index: 1, test loss: 0.681319, test acc: 0.475\n",
      "==>>> epoch: 10, batch index: 60, train loss: 0.630500\n",
      "==>>> epoch: 10, batch index: 1, test loss: 0.679959, test acc: 0.475\n",
      "==>>> epoch: 11, batch index: 60, train loss: 0.614397\n",
      "==>>> epoch: 11, batch index: 1, test loss: 0.651130, test acc: 0.500\n",
      "==>>> epoch: 12, batch index: 60, train loss: 0.591990\n",
      "==>>> epoch: 12, batch index: 1, test loss: 0.631487, test acc: 0.600\n",
      "==>>> epoch: 13, batch index: 60, train loss: 0.573311\n",
      "==>>> epoch: 13, batch index: 1, test loss: 0.619507, test acc: 0.625\n",
      "==>>> epoch: 14, batch index: 60, train loss: 0.551492\n",
      "==>>> epoch: 14, batch index: 1, test loss: 0.600198, test acc: 0.675\n",
      "==>>> epoch: 15, batch index: 60, train loss: 0.535692\n",
      "==>>> epoch: 15, batch index: 1, test loss: 0.622945, test acc: 0.600\n",
      "==>>> epoch: 16, batch index: 60, train loss: 0.516359\n",
      "==>>> epoch: 16, batch index: 1, test loss: 0.555517, test acc: 0.700\n",
      "==>>> epoch: 17, batch index: 60, train loss: 0.503872\n",
      "==>>> epoch: 17, batch index: 1, test loss: 0.515281, test acc: 0.875\n",
      "==>>> epoch: 18, batch index: 60, train loss: 0.481894\n",
      "==>>> epoch: 18, batch index: 1, test loss: 0.559333, test acc: 0.675\n",
      "==>>> epoch: 19, batch index: 60, train loss: 0.471488\n",
      "==>>> epoch: 19, batch index: 1, test loss: 0.491197, test acc: 0.850\n"
     ]
    }
   ],
   "source": [
    "for epoch in range(20):\n",
    "    # trainning\n",
    "    total_loss = 0\n",
    "    model2.train()\n",
    "    for batch_idx, (x, target) in enumerate(train_loader):\n",
    "        optimizer.zero_grad()\n",
    "        out = model2(x)\n",
    "        loss = criterion(out, target)\n",
    "        total_loss += loss.item()\n",
    "        loss.backward()\n",
    "        optimizer.step()\n",
    "        if (batch_idx+1) % 100 == 0 or (batch_idx+1) == len(train_loader):\n",
    "            print('==>>> epoch: {}, batch index: {}, train loss: {:.6f}'.format(\n",
    "                epoch, batch_idx+1, total_loss/(batch_idx+1) / len(x)))\n",
    "    # testing\n",
    "    model2.eval()\n",
    "    correct_cnt, total_loss = 0, 0\n",
    "    total_cnt = 0\n",
    "    for batch_idx, (x, target) in enumerate(test_loader):\n",
    "        x, target = Variable(x), Variable(target)\n",
    "        out = model2(x)\n",
    "        \n",
    "        loss = criterion(out, target)\n",
    "        _, pred_label = torch.max(out.data, 1)\n",
    "        total_cnt += x.data.size()[0]\n",
    "        correct_cnt += (pred_label == target.data).sum()\n",
    "        total_loss += loss.item()\n",
    "        if(batch_idx+1) % 100 == 0 or (batch_idx+1) == len(test_loader):\n",
    "            print('==>>> epoch: {}, batch index: {}, test loss: {:.6f}, test acc: {:.3f}'.format(\n",
    "                epoch, batch_idx+1, total_loss, correct_cnt * 1.0 / total_cnt))"
   ]
  },
  {
   "cell_type": "code",
   "execution_count": 67,
   "id": "da140c10",
   "metadata": {},
   "outputs": [
    {
     "data": {
      "text/plain": [
       "[<matplotlib.lines.Line2D at 0x1a697583df0>]"
      ]
     },
     "execution_count": 67,
     "metadata": {},
     "output_type": "execute_result"
    },
    {
     "data": {
      "image/png": "[encoded data removed]",
      "text/plain": [
       "<Figure size 432x288 with 1 Axes>"
      ]
     },
     "metadata": {
      "needs_background": "light"
     },
     "output_type": "display_data"
    }
   ],
   "source": [
    "#True Predictions Green - Wrong Predictions Red\n",
    "for i, (x, k) in enumerate(grid_loader):\n",
    "    pred_label_grid = model2(x)\n",
    "    _, pred_label_grid = torch.max(pred_label_grid.data, 1)\n",
    "boolarray = np.array([x == y for x,y in zip(Y_test, pred_label)])\n",
    "plt.plot(X_test[boolarray, 0], X_test[boolarray, 1], \"*g\")\n",
    "plt.plot(X_test[boolarray == 0, 0], X_test[boolarray == 0, 1], \"*r\")"
   ]
  },
  {
   "cell_type": "code",
   "execution_count": 68,
   "id": "e80b582d",
   "metadata": {},
   "outputs": [
    {
     "data": {
      "text/plain": [
       "[<matplotlib.lines.Line2D at 0x1a695675ac0>]"
      ]
     },
     "execution_count": 68,
     "metadata": {},
     "output_type": "execute_result"
    },
    {
     "data": {
      "image/png": "[encoded data removed]",
      "text/plain": [
       "<Figure size 432x288 with 1 Axes>"
      ]
     },
     "metadata": {
      "needs_background": "light"
     },
     "output_type": "display_data"
    }
   ],
   "source": [
    "# Predictions\n",
    "plt.plot(X_test[pred_label == 1, 0], X_test[pred_label == 1, 1], \"*r\")\n",
    "plt.plot(X_test[pred_label == 0, 0], X_test[pred_label == 0, 1], \"*b\")"
   ]
  },
  {
   "cell_type": "code",
   "execution_count": 69,
   "id": "e5737481",
   "metadata": {},
   "outputs": [
    {
     "data": {
      "text/plain": [
       "[<matplotlib.lines.Line2D at 0x1a697641bb0>]"
      ]
     },
     "execution_count": 69,
     "metadata": {},
     "output_type": "execute_result"
    },
    {
     "data": {
      "image/png": "[encoded data removed]",
      "text/plain": [
       "<Figure size 432x288 with 1 Axes>"
      ]
     },
     "metadata": {
      "needs_background": "light"
     },
     "output_type": "display_data"
    }
   ],
   "source": [
    "# Decision Boundaries\n",
    "plt.plot(X_grid[pred_label_grid == 1, 0], X_grid[pred_label_grid == 1, 1], \"*r\")\n",
    "plt.plot(X_grid[pred_label_grid == 0, 0], X_grid[pred_label_grid == 0, 1], \"*b\")"
   ]
  },
  {
   "cell_type": "code",
   "execution_count": 70,
   "id": "0068293b",
   "metadata": {
    "scrolled": false
   },
   "outputs": [
    {
     "data": {
      "text/plain": [
       "[<matplotlib.lines.Line2D at 0x1a6945ab250>]"
      ]
     },
     "execution_count": 70,
     "metadata": {},
     "output_type": "execute_result"
    },
    {
     "data": {
      "image/png": "[encoded data removed]",
      "text/plain": [
       "<Figure size 432x288 with 1 Axes>"
      ]
     },
     "metadata": {
      "needs_background": "light"
     },
     "output_type": "display_data"
    }
   ],
   "source": [
    "plt.plot(X_test[Y_test == 1, 0], X_test[Y_test == 1, 1], \"*r\")\n",
    "plt.plot(X_test[Y_test == 0, 0], X_test[Y_test == 0, 1], \"*b\")"
   ]
  },
  {
   "cell_type": "code",
   "execution_count": null,
   "id": "9278d8f3",
   "metadata": {},
   "outputs": [],
   "source": []
  }
 ],
 "metadata": {
  "kernelspec": {
   "display_name": "Python 3 (ipykernel)",
   "language": "python",
   "name": "python3"
  },
  "language_info": {
   "codemirror_mode": {
    "name": "ipython",
    "version": 3
   },
   "file_extension": ".py",
   "mimetype": "text/x-python",
   "name": "python",
   "nbconvert_exporter": "python",
   "pygments_lexer": "ipython3",
   "version": "3.8.13"
  }
 },
 "nbformat": 4,
 "nbformat_minor": 5
}
